{
 "cells": [
  {
   "cell_type": "markdown",
   "id": "9436d466",
   "metadata": {},
   "source": [
    "### Import the relevant libraries"
   ]
  },
  {
   "cell_type": "code",
   "execution_count": 1,
   "id": "bb5f64b4",
   "metadata": {},
   "outputs": [],
   "source": [
    "import pandas as pd\n",
    "from sklearn.cluster import AgglomerativeClustering\n",
    "from sklearn.metrics import adjusted_rand_score\n",
    "from sklearn.preprocessing import normalize \n",
    "\n",
    "import matplotlib.pyplot as plt\n",
    "import seaborn as sns\n",
    "from scipy.cluster.hierarchy import linkage,dendrogram\n",
    "\n",
    "sns.set()"
   ]
  },
  {
   "cell_type": "markdown",
   "id": "93622b8f",
   "metadata": {},
   "source": [
    "### import iris dataset"
   ]
  },
  {
   "cell_type": "code",
   "execution_count": 2,
   "id": "f4282413",
   "metadata": {},
   "outputs": [],
   "source": [
    "from sklearn import datasets\n",
    "iris=datasets.load_iris()"
   ]
  },
  {
   "cell_type": "code",
   "execution_count": 3,
   "id": "34502b08",
   "metadata": {},
   "outputs": [
    {
     "data": {
      "text/plain": [
       "array([[5.1, 3.5, 1.4, 0.2],\n",
       "       [4.9, 3. , 1.4, 0.2],\n",
       "       [4.7, 3.2, 1.3, 0.2],\n",
       "       [4.6, 3.1, 1.5, 0.2],\n",
       "       [5. , 3.6, 1.4, 0.2],\n",
       "       [5.4, 3.9, 1.7, 0.4],\n",
       "       [4.6, 3.4, 1.4, 0.3],\n",
       "       [5. , 3.4, 1.5, 0.2],\n",
       "       [4.4, 2.9, 1.4, 0.2],\n",
       "       [4.9, 3.1, 1.5, 0.1]])"
      ]
     },
     "execution_count": 3,
     "metadata": {},
     "output_type": "execute_result"
    }
   ],
   "source": [
    "iris.data[:10]"
   ]
  },
  {
   "cell_type": "code",
   "execution_count": 4,
   "id": "017c36c2",
   "metadata": {},
   "outputs": [
    {
     "data": {
      "text/plain": [
       "array([0, 0, 0, 0, 0, 0, 0, 0, 0, 0, 0, 0, 0, 0, 0, 0, 0, 0, 0, 0, 0, 0,\n",
       "       0, 0, 0, 0, 0, 0, 0, 0, 0, 0, 0, 0, 0, 0, 0, 0, 0, 0, 0, 0, 0, 0,\n",
       "       0, 0, 0, 0, 0, 0, 1, 1, 1, 1, 1, 1, 1, 1, 1, 1, 1, 1, 1, 1, 1, 1,\n",
       "       1, 1, 1, 1, 1, 1, 1, 1, 1, 1, 1, 1, 1, 1, 1, 1, 1, 1, 1, 1, 1, 1,\n",
       "       1, 1, 1, 1, 1, 1, 1, 1, 1, 1, 1, 1, 2, 2, 2, 2, 2, 2, 2, 2, 2, 2,\n",
       "       2, 2, 2, 2, 2, 2, 2, 2, 2, 2, 2, 2, 2, 2, 2, 2, 2, 2, 2, 2, 2, 2,\n",
       "       2, 2, 2, 2, 2, 2, 2, 2, 2, 2, 2, 2, 2, 2, 2, 2, 2, 2])"
      ]
     },
     "execution_count": 4,
     "metadata": {},
     "output_type": "execute_result"
    }
   ],
   "source": [
    "iris.target"
   ]
  },
  {
   "cell_type": "code",
   "execution_count": 5,
   "id": "1ce200a4",
   "metadata": {},
   "outputs": [],
   "source": [
    "cols=['sepal_length','sepal_width','petal_length','petal_width']\n",
    "df=pd.DataFrame(data=iris.data,columns=cols)"
   ]
  },
  {
   "cell_type": "code",
   "execution_count": 6,
   "id": "3d89029c",
   "metadata": {},
   "outputs": [
    {
     "data": {
      "text/html": [
       "<div>\n",
       "<style scoped>\n",
       "    .dataframe tbody tr th:only-of-type {\n",
       "        vertical-align: middle;\n",
       "    }\n",
       "\n",
       "    .dataframe tbody tr th {\n",
       "        vertical-align: top;\n",
       "    }\n",
       "\n",
       "    .dataframe thead th {\n",
       "        text-align: right;\n",
       "    }\n",
       "</style>\n",
       "<table border=\"1\" class=\"dataframe\">\n",
       "  <thead>\n",
       "    <tr style=\"text-align: right;\">\n",
       "      <th></th>\n",
       "      <th>sepal_length</th>\n",
       "      <th>sepal_width</th>\n",
       "      <th>petal_length</th>\n",
       "      <th>petal_width</th>\n",
       "      <th>class</th>\n",
       "    </tr>\n",
       "  </thead>\n",
       "  <tbody>\n",
       "    <tr>\n",
       "      <th>145</th>\n",
       "      <td>6.7</td>\n",
       "      <td>3.0</td>\n",
       "      <td>5.2</td>\n",
       "      <td>2.3</td>\n",
       "      <td>2</td>\n",
       "    </tr>\n",
       "    <tr>\n",
       "      <th>135</th>\n",
       "      <td>7.7</td>\n",
       "      <td>3.0</td>\n",
       "      <td>6.1</td>\n",
       "      <td>2.3</td>\n",
       "      <td>2</td>\n",
       "    </tr>\n",
       "    <tr>\n",
       "      <th>11</th>\n",
       "      <td>4.8</td>\n",
       "      <td>3.4</td>\n",
       "      <td>1.6</td>\n",
       "      <td>0.2</td>\n",
       "      <td>0</td>\n",
       "    </tr>\n",
       "    <tr>\n",
       "      <th>102</th>\n",
       "      <td>7.1</td>\n",
       "      <td>3.0</td>\n",
       "      <td>5.9</td>\n",
       "      <td>2.1</td>\n",
       "      <td>2</td>\n",
       "    </tr>\n",
       "    <tr>\n",
       "      <th>49</th>\n",
       "      <td>5.0</td>\n",
       "      <td>3.3</td>\n",
       "      <td>1.4</td>\n",
       "      <td>0.2</td>\n",
       "      <td>0</td>\n",
       "    </tr>\n",
       "  </tbody>\n",
       "</table>\n",
       "</div>"
      ],
      "text/plain": [
       "     sepal_length  sepal_width  petal_length  petal_width  class\n",
       "145           6.7          3.0           5.2          2.3      2\n",
       "135           7.7          3.0           6.1          2.3      2\n",
       "11            4.8          3.4           1.6          0.2      0\n",
       "102           7.1          3.0           5.9          2.1      2\n",
       "49            5.0          3.3           1.4          0.2      0"
      ]
     },
     "execution_count": 6,
     "metadata": {},
     "output_type": "execute_result"
    }
   ],
   "source": [
    "df['class']=iris.target\n",
    "df.sample(5)"
   ]
  },
  {
   "cell_type": "markdown",
   "id": "96bcf70f",
   "metadata": {},
   "source": [
    "- first , Hierarchical clustering  without normalizing"
   ]
  },
  {
   "cell_type": "code",
   "execution_count": 7,
   "id": "ccf3978f",
   "metadata": {},
   "outputs": [
    {
     "data": {
      "text/plain": [
       "0    50\n",
       "1    50\n",
       "2    50\n",
       "Name: class, dtype: int64"
      ]
     },
     "execution_count": 7,
     "metadata": {},
     "output_type": "execute_result"
    }
   ],
   "source": [
    "df['class'].value_counts()"
   ]
  },
  {
   "cell_type": "markdown",
   "id": "c13a8e4c",
   "metadata": {},
   "source": [
    "- let n_cluster=3"
   ]
  },
  {
   "cell_type": "code",
   "execution_count": 8,
   "id": "b9793dfa",
   "metadata": {},
   "outputs": [],
   "source": [
    "data=df.iloc[:,:4]\n",
    "target=df.iloc[:,4]"
   ]
  },
  {
   "cell_type": "markdown",
   "id": "29da3811",
   "metadata": {},
   "source": [
    "- complete link clustering"
   ]
  },
  {
   "cell_type": "code",
   "execution_count": 9,
   "id": "06a77016",
   "metadata": {},
   "outputs": [],
   "source": [
    "complete=AgglomerativeClustering(n_clusters=3,linkage='complete')\n",
    "complete_predict=complete.fit_predict(data)"
   ]
  },
  {
   "cell_type": "markdown",
   "id": "a536121d",
   "metadata": {},
   "source": [
    "- average link clustering"
   ]
  },
  {
   "cell_type": "code",
   "execution_count": 10,
   "id": "e7d741d5",
   "metadata": {},
   "outputs": [],
   "source": [
    "average =AgglomerativeClustering(n_clusters=3,linkage='average')\n",
    "average_predict=average.fit_predict(data)"
   ]
  },
  {
   "cell_type": "markdown",
   "id": "d269cdfa",
   "metadata": {},
   "source": [
    "- ward method clustering"
   ]
  },
  {
   "cell_type": "code",
   "execution_count": 11,
   "id": "a7ce7cbd",
   "metadata": {},
   "outputs": [],
   "source": [
    "ward=AgglomerativeClustering(n_clusters=3,linkage='ward')\n",
    "ward_predict=ward.fit_predict(data)"
   ]
  },
  {
   "cell_type": "markdown",
   "id": "f55b61b9",
   "metadata": {},
   "source": [
    "- claculate adjusted_rand_score for each cluster method"
   ]
  },
  {
   "cell_type": "code",
   "execution_count": 12,
   "id": "f6674840",
   "metadata": {},
   "outputs": [
    {
     "name": "stdout",
     "output_type": "stream",
     "text": [
      "complete link clustering score : 0.6422512518362898\n",
      "average link clustering score: 0.7591987071071522\n",
      "ward method score: 0.7311985567707746\n"
     ]
    }
   ],
   "source": [
    "complete_score=adjusted_rand_score(target,complete_predict)\n",
    "average_score=adjusted_rand_score(target,average_predict)\n",
    "ward_score=adjusted_rand_score(target,ward_predict)\n",
    "\n",
    "print('complete link clustering score :',complete_score)\n",
    "print('average link clustering score:',average_score)\n",
    "print('ward method score:',ward_score)"
   ]
  },
  {
   "cell_type": "markdown",
   "id": "d1d87a7c",
   "metadata": {},
   "source": [
    "- Average Link Hierarchical clustring is the highest score"
   ]
  },
  {
   "cell_type": "markdown",
   "id": "e1548fd6",
   "metadata": {},
   "source": [
    "### now ,lets try normalize the dataset, and calculate adjusted_rand_score again"
   ]
  },
  {
   "cell_type": "code",
   "execution_count": 13,
   "id": "64241c57",
   "metadata": {},
   "outputs": [
    {
     "data": {
      "text/html": [
       "<div>\n",
       "<style scoped>\n",
       "    .dataframe tbody tr th:only-of-type {\n",
       "        vertical-align: middle;\n",
       "    }\n",
       "\n",
       "    .dataframe tbody tr th {\n",
       "        vertical-align: top;\n",
       "    }\n",
       "\n",
       "    .dataframe thead th {\n",
       "        text-align: right;\n",
       "    }\n",
       "</style>\n",
       "<table border=\"1\" class=\"dataframe\">\n",
       "  <thead>\n",
       "    <tr style=\"text-align: right;\">\n",
       "      <th></th>\n",
       "      <th>sepal_length</th>\n",
       "      <th>sepal_width</th>\n",
       "      <th>petal_length</th>\n",
       "      <th>petal_width</th>\n",
       "    </tr>\n",
       "  </thead>\n",
       "  <tbody>\n",
       "    <tr>\n",
       "      <th>0</th>\n",
       "      <td>0.803773</td>\n",
       "      <td>0.551609</td>\n",
       "      <td>0.220644</td>\n",
       "      <td>0.031521</td>\n",
       "    </tr>\n",
       "    <tr>\n",
       "      <th>1</th>\n",
       "      <td>0.828133</td>\n",
       "      <td>0.507020</td>\n",
       "      <td>0.236609</td>\n",
       "      <td>0.033801</td>\n",
       "    </tr>\n",
       "    <tr>\n",
       "      <th>2</th>\n",
       "      <td>0.805333</td>\n",
       "      <td>0.548312</td>\n",
       "      <td>0.222752</td>\n",
       "      <td>0.034269</td>\n",
       "    </tr>\n",
       "    <tr>\n",
       "      <th>3</th>\n",
       "      <td>0.800030</td>\n",
       "      <td>0.539151</td>\n",
       "      <td>0.260879</td>\n",
       "      <td>0.034784</td>\n",
       "    </tr>\n",
       "    <tr>\n",
       "      <th>4</th>\n",
       "      <td>0.790965</td>\n",
       "      <td>0.569495</td>\n",
       "      <td>0.221470</td>\n",
       "      <td>0.031639</td>\n",
       "    </tr>\n",
       "  </tbody>\n",
       "</table>\n",
       "</div>"
      ],
      "text/plain": [
       "   sepal_length  sepal_width  petal_length  petal_width\n",
       "0      0.803773     0.551609      0.220644     0.031521\n",
       "1      0.828133     0.507020      0.236609     0.033801\n",
       "2      0.805333     0.548312      0.222752     0.034269\n",
       "3      0.800030     0.539151      0.260879     0.034784\n",
       "4      0.790965     0.569495      0.221470     0.031639"
      ]
     },
     "execution_count": 13,
     "metadata": {},
     "output_type": "execute_result"
    }
   ],
   "source": [
    "data_normalize=normalize(data)\n",
    "data_normalize=pd.DataFrame(data=data_normalize,columns=cols)\n",
    "data_normalize.head()"
   ]
  },
  {
   "cell_type": "markdown",
   "id": "2be072a3",
   "metadata": {},
   "source": [
    "- complete link clustering"
   ]
  },
  {
   "cell_type": "code",
   "execution_count": 14,
   "id": "9a3f2034",
   "metadata": {},
   "outputs": [],
   "source": [
    "complete=AgglomerativeClustering(n_clusters=3,linkage='complete')\n",
    "complete_predict=complete.fit_predict(data_normalize)"
   ]
  },
  {
   "cell_type": "markdown",
   "id": "60ffe7c7",
   "metadata": {},
   "source": [
    "- average link clustering"
   ]
  },
  {
   "cell_type": "code",
   "execution_count": 15,
   "id": "69422428",
   "metadata": {},
   "outputs": [],
   "source": [
    "average=AgglomerativeClustering(n_clusters=3,linkage='average')\n",
    "average_predict=average.fit_predict(data_normalize)"
   ]
  },
  {
   "cell_type": "markdown",
   "id": "84038137",
   "metadata": {},
   "source": [
    "- ward method clustering"
   ]
  },
  {
   "cell_type": "code",
   "execution_count": 16,
   "id": "f2b40e3e",
   "metadata": {},
   "outputs": [],
   "source": [
    "ward=AgglomerativeClustering(n_clusters=3,linkage='ward')\n",
    "ward_predict=ward.fit_predict(data_normalize)"
   ]
  },
  {
   "cell_type": "markdown",
   "id": "a61392f4",
   "metadata": {},
   "source": [
    "- claculate adjusted_rand_score for each cluster method after data normalizing"
   ]
  },
  {
   "cell_type": "code",
   "execution_count": 17,
   "id": "d348b125",
   "metadata": {},
   "outputs": [
    {
     "name": "stdout",
     "output_type": "stream",
     "text": [
      "complete link clustering score : 0.644447235392006\n",
      "average link clustering score: 0.5583714437541352\n",
      "ward method score: 0.8856970310281228\n"
     ]
    }
   ],
   "source": [
    "complete_score=adjusted_rand_score(target,complete_predict)\n",
    "average_score=adjusted_rand_score(target,average_predict)\n",
    "ward_score=adjusted_rand_score(target,ward_predict)\n",
    "\n",
    "print('complete link clustering score :',complete_score)\n",
    "print('average link clustering score:',average_score)\n",
    "print('ward method score:',ward_score)"
   ]
  },
  {
   "cell_type": "markdown",
   "id": "23dfd49a",
   "metadata": {},
   "source": [
    "- Ward method Hierarchical clustring is the highest score after normalizing"
   ]
  },
  {
   "cell_type": "markdown",
   "id": "8d6ef9e4",
   "metadata": {},
   "source": [
    "# Visiualizing "
   ]
  },
  {
   "cell_type": "markdown",
   "id": "6e9e5ca1",
   "metadata": {},
   "source": [
    "### using seaborn"
   ]
  },
  {
   "cell_type": "code",
   "execution_count": 18,
   "id": "18b784f1",
   "metadata": {},
   "outputs": [
    {
     "data": {
      "image/png": "[encoded data removed]",
      "text/plain": [
       "<Figure size 720x720 with 4 Axes>"
      ]
     },
     "metadata": {},
     "output_type": "display_data"
    }
   ],
   "source": [
    "sns.clustermap(data_normalize,method='ward',cmap='viridis')\n",
    "plt.show()"
   ]
  },
  {
   "cell_type": "markdown",
   "id": "e7992834",
   "metadata": {},
   "source": [
    "### Dendrogram visualization with scipy"
   ]
  },
  {
   "cell_type": "code",
   "execution_count": 19,
   "id": "6572ba44",
   "metadata": {},
   "outputs": [],
   "source": [
    "linkage_type='ward'"
   ]
  },
  {
   "cell_type": "code",
   "execution_count": 20,
   "id": "ed961862",
   "metadata": {},
   "outputs": [],
   "source": [
    "linkage_matrix=linkage(data_normalize,linkage_type)"
   ]
  },
  {
   "cell_type": "code",
   "execution_count": 21,
   "id": "4f8ba38e",
   "metadata": {},
   "outputs": [
    {
     "data": {
      "image/png": "[encoded data removed]",
      "text/plain": [
       "<Figure size 1584x1296 with 1 Axes>"
      ]
     },
     "metadata": {},
     "output_type": "display_data"
    }
   ],
   "source": [
    "plt.figure(figsize=(22,18))\n",
    "dendrogram(linkage_matrix)\n",
    "plt.show()"
   ]
  },
  {
   "cell_type": "code",
   "execution_count": null,
   "id": "d5f94122",
   "metadata": {},
   "outputs": [],
   "source": []
  }
 ],
 "metadata": {
  "kernelspec": {
   "display_name": "Python 3 (ipykernel)",
   "language": "python",
   "name": "python3"
  },
  "language_info": {
   "codemirror_mode": {
    "name": "ipython",
    "version": 3
   },
   "file_extension": ".py",
   "mimetype": "text/x-python",
   "name": "python",
   "nbconvert_exporter": "python",
   "pygments_lexer": "ipython3",
   "version": "3.9.7"
  }
 },
 "nbformat": 4,
 "nbformat_minor": 5
}
