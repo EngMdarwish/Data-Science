{
 "cells": [
  {
   "cell_type": "markdown",
   "id": "f37f9e22",
   "metadata": {},
   "source": [
    "### Import the relevant libraries"
   ]
  },
  {
   "cell_type": "code",
   "execution_count": 1,
   "id": "e1f34f23",
   "metadata": {},
   "outputs": [],
   "source": [
    "import pandas as pd\n",
    "import numpy as np\n",
    "import matplotlib.pyplot as plt\n",
    "import seaborn as sns\n",
    "from sklearn.cluster import KMeans\n",
    "from sklearn import preprocessing\n",
    "sns.set()"
   ]
  },
  {
   "cell_type": "markdown",
   "id": "a5a014ef",
   "metadata": {},
   "source": [
    "### Data Wrangling"
   ]
  },
  {
   "cell_type": "markdown",
   "id": "5af02a45",
   "metadata": {},
   "source": [
    "#### Load the data\n"
   ]
  },
  {
   "cell_type": "code",
   "execution_count": 2,
   "id": "589049c2",
   "metadata": {},
   "outputs": [
    {
     "data": {
      "text/html": [
       "<div>\n",
       "<style scoped>\n",
       "    .dataframe tbody tr th:only-of-type {\n",
       "        vertical-align: middle;\n",
       "    }\n",
       "\n",
       "    .dataframe tbody tr th {\n",
       "        vertical-align: top;\n",
       "    }\n",
       "\n",
       "    .dataframe thead th {\n",
       "        text-align: right;\n",
       "    }\n",
       "</style>\n",
       "<table border=\"1\" class=\"dataframe\">\n",
       "  <thead>\n",
       "    <tr style=\"text-align: right;\">\n",
       "      <th></th>\n",
       "      <th>Satisfaction</th>\n",
       "      <th>Loyalty</th>\n",
       "    </tr>\n",
       "  </thead>\n",
       "  <tbody>\n",
       "    <tr>\n",
       "      <th>0</th>\n",
       "      <td>4</td>\n",
       "      <td>-1.33</td>\n",
       "    </tr>\n",
       "    <tr>\n",
       "      <th>1</th>\n",
       "      <td>6</td>\n",
       "      <td>-0.28</td>\n",
       "    </tr>\n",
       "    <tr>\n",
       "      <th>2</th>\n",
       "      <td>5</td>\n",
       "      <td>-0.99</td>\n",
       "    </tr>\n",
       "    <tr>\n",
       "      <th>3</th>\n",
       "      <td>7</td>\n",
       "      <td>-0.29</td>\n",
       "    </tr>\n",
       "    <tr>\n",
       "      <th>4</th>\n",
       "      <td>4</td>\n",
       "      <td>1.06</td>\n",
       "    </tr>\n",
       "  </tbody>\n",
       "</table>\n",
       "</div>"
      ],
      "text/plain": [
       "   Satisfaction  Loyalty\n",
       "0             4    -1.33\n",
       "1             6    -0.28\n",
       "2             5    -0.99\n",
       "3             7    -0.29\n",
       "4             4     1.06"
      ]
     },
     "execution_count": 2,
     "metadata": {},
     "output_type": "execute_result"
    }
   ],
   "source": [
    "df=pd.read_csv('data.csv')\n",
    "df.head()"
   ]
  },
  {
   "cell_type": "code",
   "execution_count": 3,
   "id": "cf1688da",
   "metadata": {},
   "outputs": [
    {
     "name": "stdout",
     "output_type": "stream",
     "text": [
      "<class 'pandas.core.frame.DataFrame'>\n",
      "RangeIndex: 30 entries, 0 to 29\n",
      "Data columns (total 2 columns):\n",
      " #   Column        Non-Null Count  Dtype  \n",
      "---  ------        --------------  -----  \n",
      " 0   Satisfaction  30 non-null     int64  \n",
      " 1   Loyalty       30 non-null     float64\n",
      "dtypes: float64(1), int64(1)\n",
      "memory usage: 608.0 bytes\n"
     ]
    }
   ],
   "source": [
    "df.info()"
   ]
  },
  {
   "cell_type": "markdown",
   "id": "42b36ac9",
   "metadata": {},
   "source": [
    "#### Assessing Data"
   ]
  },
  {
   "cell_type": "markdown",
   "id": "448a01c1",
   "metadata": {},
   "source": [
    "- no null values"
   ]
  },
  {
   "cell_type": "markdown",
   "id": "68b50fd3",
   "metadata": {},
   "source": [
    "#### Acleaning Data"
   ]
  },
  {
   "cell_type": "markdown",
   "id": "350b25a7",
   "metadata": {},
   "source": [
    "- no cleaning is needed"
   ]
  },
  {
   "cell_type": "code",
   "execution_count": 4,
   "id": "a367d5b8",
   "metadata": {},
   "outputs": [],
   "source": [
    "df_scaled=preprocessing.scale(df)"
   ]
  },
  {
   "cell_type": "code",
   "execution_count": 5,
   "id": "46687f90",
   "metadata": {},
   "outputs": [],
   "source": [
    "cols=df.columns.values"
   ]
  },
  {
   "cell_type": "code",
   "execution_count": 6,
   "id": "7a9d14c6",
   "metadata": {},
   "outputs": [
    {
     "data": {
      "text/plain": [
       "array([[<AxesSubplot:title={'center':'Satisfaction'}>,\n",
       "        <AxesSubplot:title={'center':'Loyalty'}>]], dtype=object)"
      ]
     },
     "execution_count": 6,
     "metadata": {},
     "output_type": "execute_result"
    },
    {
     "data": {
      "image/png": "[encoded data removed]",
      "text/plain": [
       "<Figure size 432x288 with 2 Axes>"
      ]
     },
     "metadata": {},
     "output_type": "display_data"
    }
   ],
   "source": [
    "df_scaled=pd.DataFrame(data=df_scaled,columns=cols)\n",
    "df_scaled.hist()"
   ]
  },
  {
   "cell_type": "code",
   "execution_count": 7,
   "id": "0154381c",
   "metadata": {},
   "outputs": [
    {
     "data": {
      "text/plain": [
       "Text(0.5, 1.0, 'Market segmentation')"
      ]
     },
     "execution_count": 7,
     "metadata": {},
     "output_type": "execute_result"
    },
    {
     "data": {
      "image/png": "[encoded data removed]",
      "text/plain": [
       "<Figure size 432x288 with 1 Axes>"
      ]
     },
     "metadata": {},
     "output_type": "display_data"
    }
   ],
   "source": [
    "plt.scatter(df_scaled['Satisfaction'],df_scaled['Loyalty'])\n",
    "plt.xlabel('Satisfaction',size=15)\n",
    "plt.ylabel('Loyalty',size=15)\n",
    "plt.title('Market segmentation',size=20)"
   ]
  },
  {
   "cell_type": "markdown",
   "id": "e73eb041",
   "metadata": {},
   "source": [
    "### clustring"
   ]
  },
  {
   "cell_type": "markdown",
   "id": "a28eb8b3",
   "metadata": {},
   "source": [
    "start with kmean = 2"
   ]
  },
  {
   "cell_type": "code",
   "execution_count": 8,
   "id": "1a2eea35",
   "metadata": {},
   "outputs": [],
   "source": [
    "df_copy=df_scaled.copy()"
   ]
  },
  {
   "cell_type": "code",
   "execution_count": 9,
   "id": "3690aced",
   "metadata": {},
   "outputs": [],
   "source": [
    "clust=KMeans(2)"
   ]
  },
  {
   "cell_type": "code",
   "execution_count": 10,
   "id": "d68f3057",
   "metadata": {},
   "outputs": [],
   "source": [
    "df_copy['Cluset']=clust.fit_predict(df_copy)"
   ]
  },
  {
   "cell_type": "code",
   "execution_count": 11,
   "id": "e8013963",
   "metadata": {},
   "outputs": [
    {
     "data": {
      "text/plain": [
       "Text(0.5, 1.0, 'Market segmentation')"
      ]
     },
     "execution_count": 11,
     "metadata": {},
     "output_type": "execute_result"
    },
    {
     "data": {
      "image/png": "[encoded data removed]",
      "text/plain": [
       "<Figure size 432x288 with 1 Axes>"
      ]
     },
     "metadata": {},
     "output_type": "display_data"
    }
   ],
   "source": [
    "plt.scatter(df_copy['Satisfaction'],df_copy['Loyalty'],c=df_copy['Cluset'],cmap='rainbow')\n",
    "plt.xlabel('Satisfaction',size=15)\n",
    "plt.ylabel('Loyalty',size=15)\n",
    "plt.title('Market segmentation',size=20)"
   ]
  },
  {
   "cell_type": "markdown",
   "id": "7dc144dd",
   "metadata": {},
   "source": [
    "- we can see ,data must cluster more than two clusters"
   ]
  },
  {
   "cell_type": "markdown",
   "id": "119f17ae",
   "metadata": {},
   "source": [
    "- we will use elbow method to identify the right number of clusters"
   ]
  },
  {
   "cell_type": "code",
   "execution_count": 12,
   "id": "94cb26fa",
   "metadata": {},
   "outputs": [],
   "source": [
    "df_with_cluster=df_scaled.copy()"
   ]
  },
  {
   "cell_type": "code",
   "execution_count": 13,
   "id": "1ecc25e0",
   "metadata": {},
   "outputs": [
    {
     "name": "stderr",
     "output_type": "stream",
     "text": [
      "C:\\Anaconda3\\lib\\site-packages\\sklearn\\cluster\\_kmeans.py:881: UserWarning: KMeans is known to have a memory leak on Windows with MKL, when there are less chunks than available threads. You can avoid it by setting the environment variable OMP_NUM_THREADS=1.\n",
      "  warnings.warn(\n"
     ]
    },
    {
     "data": {
      "text/plain": [
       "Text(0.5, 1.0, 'The elbow method')"
      ]
     },
     "execution_count": 13,
     "metadata": {},
     "output_type": "execute_result"
    },
    {
     "data": {
      "image/png": "[encoded data removed]",
      "text/plain": [
       "<Figure size 432x288 with 1 Axes>"
      ]
     },
     "metadata": {},
     "output_type": "display_data"
    }
   ],
   "source": [
    "wcss=[]\n",
    "no_of_clusters=np.arange(1,11)\n",
    "for i in no_of_clusters:\n",
    "    clust=KMeans(i)\n",
    "    clust.fit(df_with_cluster)\n",
    "    wcss.append(clust.inertia_)\n",
    "plt.plot(no_of_clusters,wcss)\n",
    "plt.xlabel('number of clusters',size=15)\n",
    "plt.ylabel('wcss',size=15)\n",
    "plt.title('The elbow method',size=20)\n",
    "    "
   ]
  },
  {
   "cell_type": "markdown",
   "id": "f0e45d9f",
   "metadata": {},
   "source": [
    "- The elbow method shows that the best KMeans of 4 clustering"
   ]
  },
  {
   "cell_type": "code",
   "execution_count": 14,
   "id": "2a9d91c1",
   "metadata": {},
   "outputs": [
    {
     "data": {
      "text/plain": [
       "KMeans(n_clusters=4)"
      ]
     },
     "execution_count": 14,
     "metadata": {},
     "output_type": "execute_result"
    }
   ],
   "source": [
    "clust=KMeans(4)\n",
    "clust.fit(df_with_cluster)"
   ]
  },
  {
   "cell_type": "code",
   "execution_count": 15,
   "id": "b22efb26",
   "metadata": {},
   "outputs": [],
   "source": [
    "df_with_cluster['Cluster']=clust.predict(df_with_cluster)"
   ]
  },
  {
   "cell_type": "code",
   "execution_count": 16,
   "id": "e57774bc",
   "metadata": {},
   "outputs": [
    {
     "data": {
      "text/plain": [
       "Text(0.5, 1.0, 'Market segmentation')"
      ]
     },
     "execution_count": 16,
     "metadata": {},
     "output_type": "execute_result"
    },
    {
     "data": {
      "image/png": "[encoded data removed]",
      "text/plain": [
       "<Figure size 432x288 with 1 Axes>"
      ]
     },
     "metadata": {},
     "output_type": "display_data"
    }
   ],
   "source": [
    "plt.scatter(df_with_cluster['Satisfaction'],df_with_cluster['Loyalty'],c=df_with_cluster['Cluster'],cmap='rainbow')\n",
    "plt.xlabel('Satisfaction',size=15)\n",
    "plt.ylabel('Loyalty',size=15)\n",
    "plt.title('Market segmentation',size=20)"
   ]
  },
  {
   "cell_type": "markdown",
   "id": "1f67bed6",
   "metadata": {},
   "source": [
    "### Results:"
   ]
  },
  {
   "cell_type": "markdown",
   "id": "3e157c62",
   "metadata": {},
   "source": [
    "- we have 4 clusters for customers:\n",
    "    - first one with low loyalty and low satisfaction \"alienated\" , we can not do any thing to make the increase visites or purchase.\n",
    "    - second customers with high loyalty and low satisfaction \"supportters\" , need someactions to increase satisfaction like decreasing the time of waiting on cashiers, with add multiple cashiers, and so on, to reach them to be fans.\n",
    "    - third one low loyalty and high satisfaction ,they are romars and w, can increase loyalty with loyalty cards and discounts, to reach with them to be fans\n",
    "    - the last one are fans ."
   ]
  },
  {
   "cell_type": "code",
   "execution_count": null,
   "id": "886d78c2",
   "metadata": {},
   "outputs": [],
   "source": []
  }
 ],
 "metadata": {
  "kernelspec": {
   "display_name": "Python 3 (ipykernel)",
   "language": "python",
   "name": "python3"
  },
  "language_info": {
   "codemirror_mode": {
    "name": "ipython",
    "version": 3
   },
   "file_extension": ".py",
   "mimetype": "text/x-python",
   "name": "python",
   "nbconvert_exporter": "python",
   "pygments_lexer": "ipython3",
   "version": "3.9.7"
  }
 },
 "nbformat": 4,
 "nbformat_minor": 5
}
